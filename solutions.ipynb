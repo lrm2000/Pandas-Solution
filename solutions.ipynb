{
 "cells": [
  {
   "cell_type": "code",
   "execution_count": 89,
   "metadata": {},
   "outputs": [
    {
     "name": "stdout",
     "output_type": "stream",
     "text": [
      "%pylab is deprecated, use %matplotlib inline and import the required libraries.\n",
      "Populating the interactive namespace from numpy and matplotlib\n"
     ]
    }
   ],
   "source": [
    "%pylab inline\n",
    "import pandas as pd\n",
    "from pandas import Series, DataFrame"
   ]
  },
  {
   "cell_type": "code",
   "execution_count": 61,
   "metadata": {},
   "outputs": [
    {
     "name": "stdout",
     "output_type": "stream",
     "text": [
      "What is the students average test score for the entire year? Ans. 81.6\n",
      "What is the students average test score during the first half of the year? Ans. 83.0\n",
      "What is the students average test score during the second half of the year? Ans. 79.5\n",
      "Did the student improve their performance in the second half? If so, then by how much? Ans. 3.5\n",
      "In which month did this student get their highest score? Ans. Feb\n",
      "What were this students five highest scores in the year? Ans. \n",
      " Feb     97\n",
      "Nov     91\n",
      "June    89\n",
      "Oct     85\n",
      "Sept    82\n",
      "dtype: int64\n",
      "Round the students scores to the nearest 10. Ans.\n",
      " Sept     80\n",
      "Oct      80\n",
      "Nov      90\n",
      "Dec      70\n",
      "Jan      70\n",
      "Feb     100\n",
      "Mar      70\n",
      "Apr      80\n",
      "May      80\n",
      "June     90\n",
      "dtype: int64\n"
     ]
    }
   ],
   "source": [
    "# Exercise 1\n",
    "np.random.seed(0)\n",
    "series = np.random.randint(70, 101, 10)\n",
    "months = [\"Sept\", \"Oct\", \"Nov\", \"Dec\", \"Jan\", \"Feb\", \"Mar\", \"Apr\", \"May\", \"June\"]\n",
    "pdseries = pd.Series(series, months)\n",
    "\n",
    "q1 = pdseries.mean()\n",
    "q2 = pdseries[:6].mean()\n",
    "q3 = pdseries[6:].mean()\n",
    "q4 = pdseries.diff()\n",
    "print(f'What is the students average test score for the entire year? Ans.', q1)\n",
    "print(f'What is the students average test score during the first half of the year? Ans.', q2)\n",
    "print(f'What is the students average test score during the second half of the year? Ans.', q3)\n",
    "print(f'Did the student improve their performance in the second half? If so, then by how much? Ans.', q2 - q3)\n",
    "print(f'In which month did this student get their highest score? Ans.', pdseries.idxmax())\n",
    "print(f'What were this students five highest scores in the year? Ans. \\n', pdseries.nlargest(n=5))\n",
    "print(f'Round the students scores to the nearest 10. Ans.\\n', pdseries.round(-1))"
   ]
  },
  {
   "cell_type": "code",
   "execution_count": 126,
   "metadata": {},
   "outputs": [],
   "source": [
    "# Exercise 2\n",
    "ser = np.random.randint(40, 60, 10)\n",
    "ser = Series(ser, months)\n",
    "\n",
    "# My Solution\n",
    "def solution(Series: ser):\n",
    "    scores = []\n",
    "    mean = ser.mean()\n",
    "    for i in ser:\n",
    "        difference = 80 - mean\n",
    "        new_score = i + difference\n",
    "        scores.append(new_score)\n",
    "    return scores\n",
    "scaled = Series(solution(ser), months)\n",
    "#print(scaled)\n",
    "\n",
    "# Actual solution\n",
    "#ser + (80 - ser.mean())\n"
   ]
  }
 ],
 "metadata": {
  "kernelspec": {
   "display_name": "Python 3.10.6 ('.venv': venv)",
   "language": "python",
   "name": "python3"
  },
  "language_info": {
   "codemirror_mode": {
    "name": "ipython",
    "version": 3
   },
   "file_extension": ".py",
   "mimetype": "text/x-python",
   "name": "python",
   "nbconvert_exporter": "python",
   "pygments_lexer": "ipython3",
   "version": "3.10.8"
  },
  "orig_nbformat": 4,
  "vscode": {
   "interpreter": {
    "hash": "a2325688452f70d0f0df335caa1598acdf83167c6adc869f148e4ead342d824c"
   }
  }
 },
 "nbformat": 4,
 "nbformat_minor": 2
}
